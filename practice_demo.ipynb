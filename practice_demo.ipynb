{
  "nbformat": 4,
  "nbformat_minor": 0,
  "metadata": {
    "colab": {
      "name": "Untitled0.ipynb",
      "provenance": [],
      "authorship_tag": "ABX9TyOPq7zRyvfUBvvrHvE3f7lk",
      "include_colab_link": true
    },
    "kernelspec": {
      "name": "ir",
      "display_name": "R"
    }
  },
  "cells": [
    {
      "cell_type": "markdown",
      "metadata": {
        "id": "view-in-github",
        "colab_type": "text"
      },
      "source": [
        "<a href=\"https://colab.research.google.com/github/alpha36turn/Colab-Notebooks/blob/master/practice_demo.ipynb\" target=\"_parent\"><img src=\"https://colab.research.google.com/assets/colab-badge.svg\" alt=\"Open In Colab\"/></a>"
      ]
    },
    {
      "cell_type": "markdown",
      "metadata": {
        "id": "FwWTvd_iEcxh",
        "colab_type": "text"
      },
      "source": [
        "Practice Code\n"
      ]
    },
    {
      "cell_type": "code",
      "metadata": {
        "id": "oakhlegFCIjk",
        "colab_type": "code",
        "colab": {
          "base_uri": "https://localhost:8080/",
          "height": 34
        },
        "outputId": "e898e0df-2f31-496b-9f15-b50124c1fb1c"
      },
      "source": [
        "counter = 0\n",
        "for (i in 1:5){\n",
        "  counter = counter + i\n",
        "}\n",
        "counter"
      ],
      "execution_count": 6,
      "outputs": [
        {
          "output_type": "display_data",
          "data": {
            "text/plain": [
              "[1] 15"
            ],
            "text/latex": "15",
            "text/markdown": "15",
            "text/html": [
              "15"
            ]
          },
          "metadata": {
            "tags": []
          }
        }
      ]
    },
    {
      "cell_type": "code",
      "metadata": {
        "id": "nPaGEGczDgsg",
        "colab_type": "code",
        "colab": {
          "base_uri": "https://localhost:8080/",
          "height": 34
        },
        "outputId": "e8c2c8ab-47a7-4632-e000-2f8e18d2e2d3"
      },
      "source": [
        "pchisq(3.84, df=1)"
      ],
      "execution_count": 2,
      "outputs": [
        {
          "output_type": "display_data",
          "data": {
            "text/plain": [
              "[1] 0.9499565"
            ],
            "text/latex": "0.949956478751295",
            "text/markdown": "0.949956478751295",
            "text/html": [
              "0.949956478751295"
            ]
          },
          "metadata": {
            "tags": []
          }
        }
      ]
    },
    {
      "cell_type": "code",
      "metadata": {
        "id": "UX8IEphZD78R",
        "colab_type": "code",
        "colab": {
          "base_uri": "https://localhost:8080/",
          "height": 34
        },
        "outputId": "31b7d6a2-69e2-481c-bd8b-f039e87f8fd8"
      },
      "source": [
        "pt(1.64, df=1)"
      ],
      "execution_count": 3,
      "outputs": [
        {
          "output_type": "display_data",
          "data": {
            "text/plain": [
              "[1] 0.8257055"
            ],
            "text/latex": "0.825705526999398",
            "text/markdown": "0.825705526999398",
            "text/html": [
              "0.825705526999398"
            ]
          },
          "metadata": {
            "tags": []
          }
        }
      ]
    },
    {
      "cell_type": "code",
      "metadata": {
        "id": "_mUTdr_SEAfx",
        "colab_type": "code",
        "colab": {
          "base_uri": "https://localhost:8080/",
          "height": 34
        },
        "outputId": "26ed595b-62e8-4ffa-dc7f-e9f74364114e"
      },
      "source": [
        "sd(c(1,2,3,4,5,6))"
      ],
      "execution_count": 4,
      "outputs": [
        {
          "output_type": "display_data",
          "data": {
            "text/plain": [
              "[1] 1.870829"
            ],
            "text/latex": "1.87082869338697",
            "text/markdown": "1.87082869338697",
            "text/html": [
              "1.87082869338697"
            ]
          },
          "metadata": {
            "tags": []
          }
        }
      ]
    },
    {
      "cell_type": "code",
      "metadata": {
        "id": "ek7TMj-CEE7g",
        "colab_type": "code",
        "colab": {}
      },
      "source": [
        "fannie <- download.file('https://loanperformancedata.fanniemae.com/lppub-docs/acquisition-sample-file.txt?_ga=2.208177109.632290990.1591220260-292295050.1590593429%22', 'testfile.txt')"
      ],
      "execution_count": 9,
      "outputs": []
    },
    {
      "cell_type": "code",
      "metadata": {
        "id": "pKf8fIEXFH48",
        "colab_type": "code",
        "colab": {
          "base_uri": "https://localhost:8080/",
          "height": 34
        },
        "outputId": "e7381435-50ab-4a8b-a815-eb08aa4ce5e6"
      },
      "source": [
        "fannie"
      ],
      "execution_count": 10,
      "outputs": [
        {
          "output_type": "display_data",
          "data": {
            "text/plain": [
              "[1] 0"
            ],
            "text/latex": "0",
            "text/markdown": "0",
            "text/html": [
              "0"
            ]
          },
          "metadata": {
            "tags": []
          }
        }
      ]
    },
    {
      "cell_type": "code",
      "metadata": {
        "id": "foS6XIS1FbDT",
        "colab_type": "code",
        "colab": {
          "base_uri": "https://localhost:8080/",
          "height": 34
        },
        "outputId": "fc3f9fb7-2173-4af9-c02b-f9ecf92e0a24"
      },
      "source": [
        "pnorm(-2)"
      ],
      "execution_count": 11,
      "outputs": [
        {
          "output_type": "display_data",
          "data": {
            "text/plain": [
              "[1] 0.02275013"
            ],
            "text/latex": "0.0227501319481792",
            "text/markdown": "0.0227501319481792",
            "text/html": [
              "0.0227501319481792"
            ]
          },
          "metadata": {
            "tags": []
          }
        }
      ]
    },
    {
      "cell_type": "code",
      "metadata": {
        "id": "Lb7cr5kiKyfO",
        "colab_type": "code",
        "colab": {}
      },
      "source": [
        ""
      ],
      "execution_count": null,
      "outputs": []
    }
  ]
}