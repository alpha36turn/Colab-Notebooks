{
  "nbformat": 4,
  "nbformat_minor": 0,
  "metadata": {
    "colab": {
      "name": "tidyquery_r.ipynb",
      "provenance": [],
      "authorship_tag": "ABX9TyNDtSRnDyO2xcXSswmriQQz",
      "include_colab_link": true
    },
    "kernelspec": {
      "name": "ir",
      "display_name": "R"
    }
  },
  "cells": [
    {
      "cell_type": "markdown",
      "metadata": {
        "id": "view-in-github",
        "colab_type": "text"
      },
      "source": [
        "<a href=\"https://colab.research.google.com/github/alpha36turn/Colab-Notebooks/blob/master/tidyquery_r.ipynb\" target=\"_parent\"><img src=\"https://colab.research.google.com/assets/colab-badge.svg\" alt=\"Open In Colab\"/></a>"
      ]
    },
    {
      "cell_type": "code",
      "metadata": {
        "id": "E1hxwhGZcfbM",
        "colab_type": "code",
        "colab": {
          "base_uri": "https://localhost:8080/",
          "height": 69
        },
        "outputId": "3674a08c-ef41-4edc-abf2-eb47b5312dc7"
      },
      "source": [
        "install.packages(\"pacman\")\n",
        "library(pacman)\n",
        "p_load(tidyverse, tidyquery, nycflights13)"
      ],
      "execution_count": 16,
      "outputs": [
        {
          "output_type": "stream",
          "text": [
            "Installing package into ‘/usr/local/lib/R/site-library’\n",
            "(as ‘lib’ is unspecified)\n",
            "\n"
          ],
          "name": "stderr"
        }
      ]
    },
    {
      "cell_type": "code",
      "metadata": {
        "id": "eBLKk8uGe-5k",
        "colab_type": "code",
        "colab": {
          "base_uri": "https://localhost:8080/",
          "height": 312
        },
        "outputId": "c9fdcb7f-eee5-4745-f88c-9e741e0024c8"
      },
      "source": [
        "head(flights)"
      ],
      "execution_count": 5,
      "outputs": [
        {
          "output_type": "display_data",
          "data": {
            "text/plain": [
              "  year month day dep_time sched_dep_time dep_delay arr_time sched_arr_time\n",
              "1 2013 1     1   517      515             2         830      819          \n",
              "2 2013 1     1   533      529             4         850      830          \n",
              "3 2013 1     1   542      540             2         923      850          \n",
              "4 2013 1     1   544      545            -1        1004     1022          \n",
              "5 2013 1     1   554      600            -6         812      837          \n",
              "6 2013 1     1   554      558            -4         740      728          \n",
              "  arr_delay carrier flight tailnum origin dest air_time distance hour minute\n",
              "1  11       UA      1545   N14228  EWR    IAH  227      1400     5    15    \n",
              "2  20       UA      1714   N24211  LGA    IAH  227      1416     5    29    \n",
              "3  33       AA      1141   N619AA  JFK    MIA  160      1089     5    40    \n",
              "4 -18       B6       725   N804JB  JFK    BQN  183      1576     5    45    \n",
              "5 -25       DL       461   N668DN  LGA    ATL  116       762     6     0    \n",
              "6  12       UA      1696   N39463  EWR    ORD  150       719     5    58    \n",
              "  time_hour          \n",
              "1 2013-01-01 05:00:00\n",
              "2 2013-01-01 05:00:00\n",
              "3 2013-01-01 05:00:00\n",
              "4 2013-01-01 05:00:00\n",
              "5 2013-01-01 06:00:00\n",
              "6 2013-01-01 05:00:00"
            ],
            "text/latex": "A tibble: 6 × 19\n\\begin{tabular}{lllllllllllllllllll}\n year & month & day & dep\\_time & sched\\_dep\\_time & dep\\_delay & arr\\_time & sched\\_arr\\_time & arr\\_delay & carrier & flight & tailnum & origin & dest & air\\_time & distance & hour & minute & time\\_hour\\\\\n <int> & <int> & <int> & <int> & <int> & <dbl> & <int> & <int> & <dbl> & <chr> & <int> & <chr> & <chr> & <chr> & <dbl> & <dbl> & <dbl> & <dbl> & <dttm>\\\\\n\\hline\n\t 2013 & 1 & 1 & 517 & 515 &  2 &  830 &  819 &  11 & UA & 1545 & N14228 & EWR & IAH & 227 & 1400 & 5 & 15 & 2013-01-01 05:00:00\\\\\n\t 2013 & 1 & 1 & 533 & 529 &  4 &  850 &  830 &  20 & UA & 1714 & N24211 & LGA & IAH & 227 & 1416 & 5 & 29 & 2013-01-01 05:00:00\\\\\n\t 2013 & 1 & 1 & 542 & 540 &  2 &  923 &  850 &  33 & AA & 1141 & N619AA & JFK & MIA & 160 & 1089 & 5 & 40 & 2013-01-01 05:00:00\\\\\n\t 2013 & 1 & 1 & 544 & 545 & -1 & 1004 & 1022 & -18 & B6 &  725 & N804JB & JFK & BQN & 183 & 1576 & 5 & 45 & 2013-01-01 05:00:00\\\\\n\t 2013 & 1 & 1 & 554 & 600 & -6 &  812 &  837 & -25 & DL &  461 & N668DN & LGA & ATL & 116 &  762 & 6 &  0 & 2013-01-01 06:00:00\\\\\n\t 2013 & 1 & 1 & 554 & 558 & -4 &  740 &  728 &  12 & UA & 1696 & N39463 & EWR & ORD & 150 &  719 & 5 & 58 & 2013-01-01 05:00:00\\\\\n\\end{tabular}\n",
            "text/markdown": "\nA tibble: 6 × 19\n\n| year &lt;int&gt; | month &lt;int&gt; | day &lt;int&gt; | dep_time &lt;int&gt; | sched_dep_time &lt;int&gt; | dep_delay &lt;dbl&gt; | arr_time &lt;int&gt; | sched_arr_time &lt;int&gt; | arr_delay &lt;dbl&gt; | carrier &lt;chr&gt; | flight &lt;int&gt; | tailnum &lt;chr&gt; | origin &lt;chr&gt; | dest &lt;chr&gt; | air_time &lt;dbl&gt; | distance &lt;dbl&gt; | hour &lt;dbl&gt; | minute &lt;dbl&gt; | time_hour &lt;dttm&gt; |\n|---|---|---|---|---|---|---|---|---|---|---|---|---|---|---|---|---|---|---|\n| 2013 | 1 | 1 | 517 | 515 |  2 |  830 |  819 |  11 | UA | 1545 | N14228 | EWR | IAH | 227 | 1400 | 5 | 15 | 2013-01-01 05:00:00 |\n| 2013 | 1 | 1 | 533 | 529 |  4 |  850 |  830 |  20 | UA | 1714 | N24211 | LGA | IAH | 227 | 1416 | 5 | 29 | 2013-01-01 05:00:00 |\n| 2013 | 1 | 1 | 542 | 540 |  2 |  923 |  850 |  33 | AA | 1141 | N619AA | JFK | MIA | 160 | 1089 | 5 | 40 | 2013-01-01 05:00:00 |\n| 2013 | 1 | 1 | 544 | 545 | -1 | 1004 | 1022 | -18 | B6 |  725 | N804JB | JFK | BQN | 183 | 1576 | 5 | 45 | 2013-01-01 05:00:00 |\n| 2013 | 1 | 1 | 554 | 600 | -6 |  812 |  837 | -25 | DL |  461 | N668DN | LGA | ATL | 116 |  762 | 6 |  0 | 2013-01-01 06:00:00 |\n| 2013 | 1 | 1 | 554 | 558 | -4 |  740 |  728 |  12 | UA | 1696 | N39463 | EWR | ORD | 150 |  719 | 5 | 58 | 2013-01-01 05:00:00 |\n\n",
            "text/html": [
              "<table>\n",
              "<caption>A tibble: 6 × 19</caption>\n",
              "<thead>\n",
              "\t<tr><th scope=col>year</th><th scope=col>month</th><th scope=col>day</th><th scope=col>dep_time</th><th scope=col>sched_dep_time</th><th scope=col>dep_delay</th><th scope=col>arr_time</th><th scope=col>sched_arr_time</th><th scope=col>arr_delay</th><th scope=col>carrier</th><th scope=col>flight</th><th scope=col>tailnum</th><th scope=col>origin</th><th scope=col>dest</th><th scope=col>air_time</th><th scope=col>distance</th><th scope=col>hour</th><th scope=col>minute</th><th scope=col>time_hour</th></tr>\n",
              "\t<tr><th scope=col>&lt;int&gt;</th><th scope=col>&lt;int&gt;</th><th scope=col>&lt;int&gt;</th><th scope=col>&lt;int&gt;</th><th scope=col>&lt;int&gt;</th><th scope=col>&lt;dbl&gt;</th><th scope=col>&lt;int&gt;</th><th scope=col>&lt;int&gt;</th><th scope=col>&lt;dbl&gt;</th><th scope=col>&lt;chr&gt;</th><th scope=col>&lt;int&gt;</th><th scope=col>&lt;chr&gt;</th><th scope=col>&lt;chr&gt;</th><th scope=col>&lt;chr&gt;</th><th scope=col>&lt;dbl&gt;</th><th scope=col>&lt;dbl&gt;</th><th scope=col>&lt;dbl&gt;</th><th scope=col>&lt;dbl&gt;</th><th scope=col>&lt;dttm&gt;</th></tr>\n",
              "</thead>\n",
              "<tbody>\n",
              "\t<tr><td>2013</td><td>1</td><td>1</td><td>517</td><td>515</td><td> 2</td><td> 830</td><td> 819</td><td> 11</td><td>UA</td><td>1545</td><td>N14228</td><td>EWR</td><td>IAH</td><td>227</td><td>1400</td><td>5</td><td>15</td><td>2013-01-01 05:00:00</td></tr>\n",
              "\t<tr><td>2013</td><td>1</td><td>1</td><td>533</td><td>529</td><td> 4</td><td> 850</td><td> 830</td><td> 20</td><td>UA</td><td>1714</td><td>N24211</td><td>LGA</td><td>IAH</td><td>227</td><td>1416</td><td>5</td><td>29</td><td>2013-01-01 05:00:00</td></tr>\n",
              "\t<tr><td>2013</td><td>1</td><td>1</td><td>542</td><td>540</td><td> 2</td><td> 923</td><td> 850</td><td> 33</td><td>AA</td><td>1141</td><td>N619AA</td><td>JFK</td><td>MIA</td><td>160</td><td>1089</td><td>5</td><td>40</td><td>2013-01-01 05:00:00</td></tr>\n",
              "\t<tr><td>2013</td><td>1</td><td>1</td><td>544</td><td>545</td><td>-1</td><td>1004</td><td>1022</td><td>-18</td><td>B6</td><td> 725</td><td>N804JB</td><td>JFK</td><td>BQN</td><td>183</td><td>1576</td><td>5</td><td>45</td><td>2013-01-01 05:00:00</td></tr>\n",
              "\t<tr><td>2013</td><td>1</td><td>1</td><td>554</td><td>600</td><td>-6</td><td> 812</td><td> 837</td><td>-25</td><td>DL</td><td> 461</td><td>N668DN</td><td>LGA</td><td>ATL</td><td>116</td><td> 762</td><td>6</td><td> 0</td><td>2013-01-01 06:00:00</td></tr>\n",
              "\t<tr><td>2013</td><td>1</td><td>1</td><td>554</td><td>558</td><td>-4</td><td> 740</td><td> 728</td><td> 12</td><td>UA</td><td>1696</td><td>N39463</td><td>EWR</td><td>ORD</td><td>150</td><td> 719</td><td>5</td><td>58</td><td>2013-01-01 05:00:00</td></tr>\n",
              "</tbody>\n",
              "</table>\n"
            ]
          },
          "metadata": {
            "tags": []
          }
        }
      ]
    },
    {
      "cell_type": "code",
      "metadata": {
        "id": "lbYB93CBfxhg",
        "colab_type": "code",
        "colab": {}
      },
      "source": [
        "flights %>% select(dep_delay)"
      ],
      "execution_count": null,
      "outputs": []
    },
    {
      "cell_type": "code",
      "metadata": {
        "id": "7K0y22wwf3tL",
        "colab_type": "code",
        "colab": {}
      },
      "source": [
        "query(\n",
        "\" SELECT dep_delay \n",
        "  FROM flights;\"\n",
        ")"
      ],
      "execution_count": null,
      "outputs": []
    },
    {
      "cell_type": "code",
      "metadata": {
        "id": "orKp96vJf39O",
        "colab_type": "code",
        "colab": {
          "base_uri": "https://localhost:8080/",
          "height": 52
        },
        "outputId": "01da1e55-220e-437e-cbe3-c91f87dc97e8"
      },
      "source": [
        "show_dplyr(\n",
        "\"  SELECT origin \n",
        "   FROM flights\n",
        "   COUNT\n",
        "\"\n",
        ")"
      ],
      "execution_count": 19,
      "outputs": [
        {
          "output_type": "stream",
          "text": [
            "flights %>%\n",
            "  select(origin)"
          ],
          "name": "stdout"
        }
      ]
    },
    {
      "cell_type": "code",
      "metadata": {
        "id": "8g46D6xoiT4z",
        "colab_type": "code",
        "colab": {
          "base_uri": "https://localhost:8080/",
          "height": 312
        },
        "outputId": "b2317ace-a4ef-4d5f-9b0c-43e443aca66d"
      },
      "source": [
        "query(\n",
        "\" SELECT * FROM flights\n",
        "  LIMIT 6\n",
        "\"\n",
        ")"
      ],
      "execution_count": 9,
      "outputs": [
        {
          "output_type": "display_data",
          "data": {
            "text/plain": [
              "  year month day dep_time sched_dep_time dep_delay arr_time sched_arr_time\n",
              "1 2013 1     1   517      515             2         830      819          \n",
              "2 2013 1     1   533      529             4         850      830          \n",
              "3 2013 1     1   542      540             2         923      850          \n",
              "4 2013 1     1   544      545            -1        1004     1022          \n",
              "5 2013 1     1   554      600            -6         812      837          \n",
              "6 2013 1     1   554      558            -4         740      728          \n",
              "  arr_delay carrier flight tailnum origin dest air_time distance hour minute\n",
              "1  11       UA      1545   N14228  EWR    IAH  227      1400     5    15    \n",
              "2  20       UA      1714   N24211  LGA    IAH  227      1416     5    29    \n",
              "3  33       AA      1141   N619AA  JFK    MIA  160      1089     5    40    \n",
              "4 -18       B6       725   N804JB  JFK    BQN  183      1576     5    45    \n",
              "5 -25       DL       461   N668DN  LGA    ATL  116       762     6     0    \n",
              "6  12       UA      1696   N39463  EWR    ORD  150       719     5    58    \n",
              "  time_hour          \n",
              "1 2013-01-01 05:00:00\n",
              "2 2013-01-01 05:00:00\n",
              "3 2013-01-01 05:00:00\n",
              "4 2013-01-01 05:00:00\n",
              "5 2013-01-01 06:00:00\n",
              "6 2013-01-01 05:00:00"
            ],
            "text/latex": "A tibble: 6 × 19\n\\begin{tabular}{lllllllllllllllllll}\n year & month & day & dep\\_time & sched\\_dep\\_time & dep\\_delay & arr\\_time & sched\\_arr\\_time & arr\\_delay & carrier & flight & tailnum & origin & dest & air\\_time & distance & hour & minute & time\\_hour\\\\\n <int> & <int> & <int> & <int> & <int> & <dbl> & <int> & <int> & <dbl> & <chr> & <int> & <chr> & <chr> & <chr> & <dbl> & <dbl> & <dbl> & <dbl> & <dttm>\\\\\n\\hline\n\t 2013 & 1 & 1 & 517 & 515 &  2 &  830 &  819 &  11 & UA & 1545 & N14228 & EWR & IAH & 227 & 1400 & 5 & 15 & 2013-01-01 05:00:00\\\\\n\t 2013 & 1 & 1 & 533 & 529 &  4 &  850 &  830 &  20 & UA & 1714 & N24211 & LGA & IAH & 227 & 1416 & 5 & 29 & 2013-01-01 05:00:00\\\\\n\t 2013 & 1 & 1 & 542 & 540 &  2 &  923 &  850 &  33 & AA & 1141 & N619AA & JFK & MIA & 160 & 1089 & 5 & 40 & 2013-01-01 05:00:00\\\\\n\t 2013 & 1 & 1 & 544 & 545 & -1 & 1004 & 1022 & -18 & B6 &  725 & N804JB & JFK & BQN & 183 & 1576 & 5 & 45 & 2013-01-01 05:00:00\\\\\n\t 2013 & 1 & 1 & 554 & 600 & -6 &  812 &  837 & -25 & DL &  461 & N668DN & LGA & ATL & 116 &  762 & 6 &  0 & 2013-01-01 06:00:00\\\\\n\t 2013 & 1 & 1 & 554 & 558 & -4 &  740 &  728 &  12 & UA & 1696 & N39463 & EWR & ORD & 150 &  719 & 5 & 58 & 2013-01-01 05:00:00\\\\\n\\end{tabular}\n",
            "text/markdown": "\nA tibble: 6 × 19\n\n| year &lt;int&gt; | month &lt;int&gt; | day &lt;int&gt; | dep_time &lt;int&gt; | sched_dep_time &lt;int&gt; | dep_delay &lt;dbl&gt; | arr_time &lt;int&gt; | sched_arr_time &lt;int&gt; | arr_delay &lt;dbl&gt; | carrier &lt;chr&gt; | flight &lt;int&gt; | tailnum &lt;chr&gt; | origin &lt;chr&gt; | dest &lt;chr&gt; | air_time &lt;dbl&gt; | distance &lt;dbl&gt; | hour &lt;dbl&gt; | minute &lt;dbl&gt; | time_hour &lt;dttm&gt; |\n|---|---|---|---|---|---|---|---|---|---|---|---|---|---|---|---|---|---|---|\n| 2013 | 1 | 1 | 517 | 515 |  2 |  830 |  819 |  11 | UA | 1545 | N14228 | EWR | IAH | 227 | 1400 | 5 | 15 | 2013-01-01 05:00:00 |\n| 2013 | 1 | 1 | 533 | 529 |  4 |  850 |  830 |  20 | UA | 1714 | N24211 | LGA | IAH | 227 | 1416 | 5 | 29 | 2013-01-01 05:00:00 |\n| 2013 | 1 | 1 | 542 | 540 |  2 |  923 |  850 |  33 | AA | 1141 | N619AA | JFK | MIA | 160 | 1089 | 5 | 40 | 2013-01-01 05:00:00 |\n| 2013 | 1 | 1 | 544 | 545 | -1 | 1004 | 1022 | -18 | B6 |  725 | N804JB | JFK | BQN | 183 | 1576 | 5 | 45 | 2013-01-01 05:00:00 |\n| 2013 | 1 | 1 | 554 | 600 | -6 |  812 |  837 | -25 | DL |  461 | N668DN | LGA | ATL | 116 |  762 | 6 |  0 | 2013-01-01 06:00:00 |\n| 2013 | 1 | 1 | 554 | 558 | -4 |  740 |  728 |  12 | UA | 1696 | N39463 | EWR | ORD | 150 |  719 | 5 | 58 | 2013-01-01 05:00:00 |\n\n",
            "text/html": [
              "<table>\n",
              "<caption>A tibble: 6 × 19</caption>\n",
              "<thead>\n",
              "\t<tr><th scope=col>year</th><th scope=col>month</th><th scope=col>day</th><th scope=col>dep_time</th><th scope=col>sched_dep_time</th><th scope=col>dep_delay</th><th scope=col>arr_time</th><th scope=col>sched_arr_time</th><th scope=col>arr_delay</th><th scope=col>carrier</th><th scope=col>flight</th><th scope=col>tailnum</th><th scope=col>origin</th><th scope=col>dest</th><th scope=col>air_time</th><th scope=col>distance</th><th scope=col>hour</th><th scope=col>minute</th><th scope=col>time_hour</th></tr>\n",
              "\t<tr><th scope=col>&lt;int&gt;</th><th scope=col>&lt;int&gt;</th><th scope=col>&lt;int&gt;</th><th scope=col>&lt;int&gt;</th><th scope=col>&lt;int&gt;</th><th scope=col>&lt;dbl&gt;</th><th scope=col>&lt;int&gt;</th><th scope=col>&lt;int&gt;</th><th scope=col>&lt;dbl&gt;</th><th scope=col>&lt;chr&gt;</th><th scope=col>&lt;int&gt;</th><th scope=col>&lt;chr&gt;</th><th scope=col>&lt;chr&gt;</th><th scope=col>&lt;chr&gt;</th><th scope=col>&lt;dbl&gt;</th><th scope=col>&lt;dbl&gt;</th><th scope=col>&lt;dbl&gt;</th><th scope=col>&lt;dbl&gt;</th><th scope=col>&lt;dttm&gt;</th></tr>\n",
              "</thead>\n",
              "<tbody>\n",
              "\t<tr><td>2013</td><td>1</td><td>1</td><td>517</td><td>515</td><td> 2</td><td> 830</td><td> 819</td><td> 11</td><td>UA</td><td>1545</td><td>N14228</td><td>EWR</td><td>IAH</td><td>227</td><td>1400</td><td>5</td><td>15</td><td>2013-01-01 05:00:00</td></tr>\n",
              "\t<tr><td>2013</td><td>1</td><td>1</td><td>533</td><td>529</td><td> 4</td><td> 850</td><td> 830</td><td> 20</td><td>UA</td><td>1714</td><td>N24211</td><td>LGA</td><td>IAH</td><td>227</td><td>1416</td><td>5</td><td>29</td><td>2013-01-01 05:00:00</td></tr>\n",
              "\t<tr><td>2013</td><td>1</td><td>1</td><td>542</td><td>540</td><td> 2</td><td> 923</td><td> 850</td><td> 33</td><td>AA</td><td>1141</td><td>N619AA</td><td>JFK</td><td>MIA</td><td>160</td><td>1089</td><td>5</td><td>40</td><td>2013-01-01 05:00:00</td></tr>\n",
              "\t<tr><td>2013</td><td>1</td><td>1</td><td>544</td><td>545</td><td>-1</td><td>1004</td><td>1022</td><td>-18</td><td>B6</td><td> 725</td><td>N804JB</td><td>JFK</td><td>BQN</td><td>183</td><td>1576</td><td>5</td><td>45</td><td>2013-01-01 05:00:00</td></tr>\n",
              "\t<tr><td>2013</td><td>1</td><td>1</td><td>554</td><td>600</td><td>-6</td><td> 812</td><td> 837</td><td>-25</td><td>DL</td><td> 461</td><td>N668DN</td><td>LGA</td><td>ATL</td><td>116</td><td> 762</td><td>6</td><td> 0</td><td>2013-01-01 06:00:00</td></tr>\n",
              "\t<tr><td>2013</td><td>1</td><td>1</td><td>554</td><td>558</td><td>-4</td><td> 740</td><td> 728</td><td> 12</td><td>UA</td><td>1696</td><td>N39463</td><td>EWR</td><td>ORD</td><td>150</td><td> 719</td><td>5</td><td>58</td><td>2013-01-01 05:00:00</td></tr>\n",
              "</tbody>\n",
              "</table>\n"
            ]
          },
          "metadata": {
            "tags": []
          }
        }
      ]
    },
    {
      "cell_type": "code",
      "metadata": {
        "id": "QpSFYcPiif_y",
        "colab_type": "code",
        "colab": {}
      },
      "source": [
        "query(\n",
        "\" SELECT origin, dep_delay FROM flights\n",
        "  ORDER BY dep_delay DESC\n",
        "\"\n",
        ")"
      ],
      "execution_count": null,
      "outputs": []
    },
    {
      "cell_type": "code",
      "metadata": {
        "id": "q9UFl3nJjO5H",
        "colab_type": "code",
        "colab": {
          "base_uri": "https://localhost:8080/",
          "height": 143
        },
        "outputId": "bc6889fd-e79d-4536-e764-a4d7d736e323"
      },
      "source": [
        "query(\n",
        "\" SELECT origin, round(AVG(dep_delay)) AS avg_delay FROM flights\n",
        "  GROUP BY origin\n",
        "\"\n",
        ")"
      ],
      "execution_count": 11,
      "outputs": [
        {
          "output_type": "display_data",
          "data": {
            "text/plain": [
              "  origin avg_delay\n",
              "1 EWR    15       \n",
              "2 JFK    12       \n",
              "3 LGA    10       "
            ],
            "text/latex": "A tibble: 3 × 2\n\\begin{tabular}{ll}\n origin & avg\\_delay\\\\\n <chr> & <dbl>\\\\\n\\hline\n\t EWR & 15\\\\\n\t JFK & 12\\\\\n\t LGA & 10\\\\\n\\end{tabular}\n",
            "text/markdown": "\nA tibble: 3 × 2\n\n| origin &lt;chr&gt; | avg_delay &lt;dbl&gt; |\n|---|---|\n| EWR | 15 |\n| JFK | 12 |\n| LGA | 10 |\n\n",
            "text/html": [
              "<table>\n",
              "<caption>A tibble: 3 × 2</caption>\n",
              "<thead>\n",
              "\t<tr><th scope=col>origin</th><th scope=col>avg_delay</th></tr>\n",
              "\t<tr><th scope=col>&lt;chr&gt;</th><th scope=col>&lt;dbl&gt;</th></tr>\n",
              "</thead>\n",
              "<tbody>\n",
              "\t<tr><td>EWR</td><td>15</td></tr>\n",
              "\t<tr><td>JFK</td><td>12</td></tr>\n",
              "\t<tr><td>LGA</td><td>10</td></tr>\n",
              "</tbody>\n",
              "</table>\n"
            ]
          },
          "metadata": {
            "tags": []
          }
        }
      ]
    },
    {
      "cell_type": "code",
      "metadata": {
        "id": "7OXNsI4RjWAo",
        "colab_type": "code",
        "colab": {
          "base_uri": "https://localhost:8080/",
          "height": 86
        },
        "outputId": "e663c036-fc43-4bfb-bf06-0b63da2baed7"
      },
      "source": [
        "show_dplyr(\n",
        "\" SELECT origin, round(AVG(dep_delay)) AS avg_delay FROM flights\n",
        "  GROUP BY origin\n",
        "\"\n",
        ")"
      ],
      "execution_count": 21,
      "outputs": [
        {
          "output_type": "stream",
          "text": [
            "flights %>%\n",
            "  group_by(origin) %>%\n",
            "  summarise(avg_delay = round(mean(dep_delay, na.rm = TRUE))) %>%\n",
            "  ungroup()"
          ],
          "name": "stdout"
        }
      ]
    },
    {
      "cell_type": "code",
      "metadata": {
        "id": "iEO_CqTrjaKB",
        "colab_type": "code",
        "colab": {}
      },
      "source": [
        "query(\n",
        "\" SELECT year, origin, carrier, name, dep_delay \n",
        "    FROM flights RIGHT OUTER JOIN airlines\n",
        "    ON flights.carrier = airlines.carrier\n",
        "    ORDER BY dep_delay DESC\n",
        "\"\n",
        ")"
      ],
      "execution_count": null,
      "outputs": []
    },
    {
      "cell_type": "code",
      "metadata": {
        "id": "nEChOf5jjhtH",
        "colab_type": "code",
        "colab": {
          "base_uri": "https://localhost:8080/",
          "height": 86
        },
        "outputId": "cf964baf-544b-43d1-d53d-cf412099fe5e"
      },
      "source": [
        "show_dplyr(\n",
        "\" SELECT year, origin, carrier, name, dep_delay \n",
        "    FROM flights RIGHT OUTER JOIN airlines\n",
        "    ON flights.carrier = airlines.carrier\n",
        "    ORDER BY dep_delay DESC\n",
        "\"\n",
        ")"
      ],
      "execution_count": 23,
      "outputs": [
        {
          "output_type": "stream",
          "text": [
            "flights %>%\n",
            "  right_join(airlines, by = \"carrier\", suffix = c(\".flights\", \".airlines\"), na_matches = \"never\") %>%\n",
            "  select(year, origin, carrier, name, dep_delay) %>%\n",
            "  arrange(dplyr::desc(dep_delay))"
          ],
          "name": "stdout"
        }
      ]
    },
    {
      "cell_type": "code",
      "metadata": {
        "id": "fui8mKZFkNcA",
        "colab_type": "code",
        "colab": {
          "base_uri": "https://localhost:8080/",
          "height": 1000
        },
        "outputId": "56398d82-17b4-4373-8db5-bc3f07cd0271"
      },
      "source": [
        "flights %>%\n",
        "  right_join(airlines, by = \"carrier\", suffix = c(\".fligths\", \".airlines\"),\n",
        "             na_matches = \"never\") %>%\n",
        "  select(year, origin, carrier, name, dep_delay) %>%\n",
        "  arrange(dplyr::desc(dep_delay))"
      ],
      "execution_count": 15,
      "outputs": [
        {
          "output_type": "display_data",
          "data": {
            "text/plain": [
              "       year origin carrier name                     dep_delay\n",
              "1      2013 JFK    HA      Hawaiian Airlines Inc.   1301     \n",
              "2      2013 JFK    MQ      Envoy Air                1137     \n",
              "3      2013 EWR    MQ      Envoy Air                1126     \n",
              "4      2013 JFK    AA      American Airlines Inc.   1014     \n",
              "5      2013 JFK    MQ      Envoy Air                1005     \n",
              "6      2013 JFK    DL      Delta Air Lines Inc.      960     \n",
              "7      2013 LGA    DL      Delta Air Lines Inc.      911     \n",
              "8      2013 JFK    DL      Delta Air Lines Inc.      899     \n",
              "9      2013 LGA    DL      Delta Air Lines Inc.      898     \n",
              "10     2013 EWR    AA      American Airlines Inc.    896     \n",
              "11     2013 EWR    MQ      Envoy Air                 878     \n",
              "12     2013 JFK    MQ      Envoy Air                 853     \n",
              "13     2013 LGA    F9      Frontier Airlines Inc.    853     \n",
              "14     2013 JFK    AA      American Airlines Inc.    853     \n",
              "15     2013 EWR    DL      Delta Air Lines Inc.      849     \n",
              "16     2013 EWR    AA      American Airlines Inc.    845     \n",
              "17     2013 JFK    DL      Delta Air Lines Inc.      825     \n",
              "18     2013 LGA    DL      Delta Air Lines Inc.      812     \n",
              "19     2013 LGA    AA      American Airlines Inc.    803     \n",
              "20     2013 JFK    DL      Delta Air Lines Inc.      800     \n",
              "21     2013 EWR    DL      Delta Air Lines Inc.      798     \n",
              "22     2013 JFK    AA      American Airlines Inc.    797     \n",
              "23     2013 JFK    DL      Delta Air Lines Inc.      790     \n",
              "24     2013 LGA    DL      Delta Air Lines Inc.      788     \n",
              "25     2013 LGA    DL      Delta Air Lines Inc.      787     \n",
              "26     2013 EWR    DL      Delta Air Lines Inc.      786     \n",
              "27     2013 JFK    AA      American Airlines Inc.    761     \n",
              "28     2013 LGA    DL      Delta Air Lines Inc.      753     \n",
              "29     2013 JFK    9E      Endeavor Air Inc.         747     \n",
              "30     2013 EWR    DL      Delta Air Lines Inc.      702     \n",
              "⋮      ⋮    ⋮      ⋮       ⋮                        ⋮        \n",
              "336747 2013 LGA    MQ      Envoy Air                NA       \n",
              "336748 2013 LGA    EV      ExpressJet Airlines Inc. NA       \n",
              "336749 2013 LGA    EV      ExpressJet Airlines Inc. NA       \n",
              "336750 2013 LGA    EV      ExpressJet Airlines Inc. NA       \n",
              "336751 2013 JFK    EV      ExpressJet Airlines Inc. NA       \n",
              "336752 2013 EWR    B6      JetBlue Airways          NA       \n",
              "336753 2013 LGA    US      US Airways Inc.          NA       \n",
              "336754 2013 LGA    US      US Airways Inc.          NA       \n",
              "336755 2013 LGA    MQ      Envoy Air                NA       \n",
              "336756 2013 LGA    MQ      Envoy Air                NA       \n",
              "336757 2013 EWR    MQ      Envoy Air                NA       \n",
              "336758 2013 LGA    EV      ExpressJet Airlines Inc. NA       \n",
              "336759 2013 LGA    US      US Airways Inc.          NA       \n",
              "336760 2013 EWR    WN      Southwest Airlines Co.   NA       \n",
              "336761 2013 LGA    AA      American Airlines Inc.   NA       \n",
              "336762 2013 LGA    US      US Airways Inc.          NA       \n",
              "336763 2013 EWR    MQ      Envoy Air                NA       \n",
              "336764 2013 LGA    UA      United Air Lines Inc.    NA       \n",
              "336765 2013 LGA    EV      ExpressJet Airlines Inc. NA       \n",
              "336766 2013 JFK    AA      American Airlines Inc.   NA       \n",
              "336767 2013 EWR    US      US Airways Inc.          NA       \n",
              "336768 2013 EWR    EV      ExpressJet Airlines Inc. NA       \n",
              "336769 2013 EWR    MQ      Envoy Air                NA       \n",
              "336770 2013 LGA    UA      United Air Lines Inc.    NA       \n",
              "336771 2013 LGA    EV      ExpressJet Airlines Inc. NA       \n",
              "336772 2013 JFK    9E      Endeavor Air Inc.        NA       \n",
              "336773 2013 LGA    9E      Endeavor Air Inc.        NA       \n",
              "336774 2013 LGA    MQ      Envoy Air                NA       \n",
              "336775 2013 LGA    MQ      Envoy Air                NA       \n",
              "336776 2013 LGA    MQ      Envoy Air                NA       "
            ],
            "text/latex": "A tibble: 336776 × 5\n\\begin{tabular}{lllll}\n year & origin & carrier & name & dep\\_delay\\\\\n <int> & <chr> & <chr> & <chr> & <dbl>\\\\\n\\hline\n\t 2013 & JFK & HA & Hawaiian Airlines Inc. & 1301\\\\\n\t 2013 & JFK & MQ & Envoy Air              & 1137\\\\\n\t 2013 & EWR & MQ & Envoy Air              & 1126\\\\\n\t 2013 & JFK & AA & American Airlines Inc. & 1014\\\\\n\t 2013 & JFK & MQ & Envoy Air              & 1005\\\\\n\t 2013 & JFK & DL & Delta Air Lines Inc.   &  960\\\\\n\t 2013 & LGA & DL & Delta Air Lines Inc.   &  911\\\\\n\t 2013 & JFK & DL & Delta Air Lines Inc.   &  899\\\\\n\t 2013 & LGA & DL & Delta Air Lines Inc.   &  898\\\\\n\t 2013 & EWR & AA & American Airlines Inc. &  896\\\\\n\t 2013 & EWR & MQ & Envoy Air              &  878\\\\\n\t 2013 & JFK & MQ & Envoy Air              &  853\\\\\n\t 2013 & LGA & F9 & Frontier Airlines Inc. &  853\\\\\n\t 2013 & JFK & AA & American Airlines Inc. &  853\\\\\n\t 2013 & EWR & DL & Delta Air Lines Inc.   &  849\\\\\n\t 2013 & EWR & AA & American Airlines Inc. &  845\\\\\n\t 2013 & JFK & DL & Delta Air Lines Inc.   &  825\\\\\n\t 2013 & LGA & DL & Delta Air Lines Inc.   &  812\\\\\n\t 2013 & LGA & AA & American Airlines Inc. &  803\\\\\n\t 2013 & JFK & DL & Delta Air Lines Inc.   &  800\\\\\n\t 2013 & EWR & DL & Delta Air Lines Inc.   &  798\\\\\n\t 2013 & JFK & AA & American Airlines Inc. &  797\\\\\n\t 2013 & JFK & DL & Delta Air Lines Inc.   &  790\\\\\n\t 2013 & LGA & DL & Delta Air Lines Inc.   &  788\\\\\n\t 2013 & LGA & DL & Delta Air Lines Inc.   &  787\\\\\n\t 2013 & EWR & DL & Delta Air Lines Inc.   &  786\\\\\n\t 2013 & JFK & AA & American Airlines Inc. &  761\\\\\n\t 2013 & LGA & DL & Delta Air Lines Inc.   &  753\\\\\n\t 2013 & JFK & 9E & Endeavor Air Inc.      &  747\\\\\n\t 2013 & EWR & DL & Delta Air Lines Inc.   &  702\\\\\n\t ⋮ & ⋮ & ⋮ & ⋮ & ⋮\\\\\n\t 2013 & LGA & MQ & Envoy Air                & NA\\\\\n\t 2013 & LGA & EV & ExpressJet Airlines Inc. & NA\\\\\n\t 2013 & LGA & EV & ExpressJet Airlines Inc. & NA\\\\\n\t 2013 & LGA & EV & ExpressJet Airlines Inc. & NA\\\\\n\t 2013 & JFK & EV & ExpressJet Airlines Inc. & NA\\\\\n\t 2013 & EWR & B6 & JetBlue Airways          & NA\\\\\n\t 2013 & LGA & US & US Airways Inc.          & NA\\\\\n\t 2013 & LGA & US & US Airways Inc.          & NA\\\\\n\t 2013 & LGA & MQ & Envoy Air                & NA\\\\\n\t 2013 & LGA & MQ & Envoy Air                & NA\\\\\n\t 2013 & EWR & MQ & Envoy Air                & NA\\\\\n\t 2013 & LGA & EV & ExpressJet Airlines Inc. & NA\\\\\n\t 2013 & LGA & US & US Airways Inc.          & NA\\\\\n\t 2013 & EWR & WN & Southwest Airlines Co.   & NA\\\\\n\t 2013 & LGA & AA & American Airlines Inc.   & NA\\\\\n\t 2013 & LGA & US & US Airways Inc.          & NA\\\\\n\t 2013 & EWR & MQ & Envoy Air                & NA\\\\\n\t 2013 & LGA & UA & United Air Lines Inc.    & NA\\\\\n\t 2013 & LGA & EV & ExpressJet Airlines Inc. & NA\\\\\n\t 2013 & JFK & AA & American Airlines Inc.   & NA\\\\\n\t 2013 & EWR & US & US Airways Inc.          & NA\\\\\n\t 2013 & EWR & EV & ExpressJet Airlines Inc. & NA\\\\\n\t 2013 & EWR & MQ & Envoy Air                & NA\\\\\n\t 2013 & LGA & UA & United Air Lines Inc.    & NA\\\\\n\t 2013 & LGA & EV & ExpressJet Airlines Inc. & NA\\\\\n\t 2013 & JFK & 9E & Endeavor Air Inc.        & NA\\\\\n\t 2013 & LGA & 9E & Endeavor Air Inc.        & NA\\\\\n\t 2013 & LGA & MQ & Envoy Air                & NA\\\\\n\t 2013 & LGA & MQ & Envoy Air                & NA\\\\\n\t 2013 & LGA & MQ & Envoy Air                & NA\\\\\n\\end{tabular}\n",
            "text/markdown": "\nA tibble: 336776 × 5\n\n| year &lt;int&gt; | origin &lt;chr&gt; | carrier &lt;chr&gt; | name &lt;chr&gt; | dep_delay &lt;dbl&gt; |\n|---|---|---|---|---|\n| 2013 | JFK | HA | Hawaiian Airlines Inc. | 1301 |\n| 2013 | JFK | MQ | Envoy Air              | 1137 |\n| 2013 | EWR | MQ | Envoy Air              | 1126 |\n| 2013 | JFK | AA | American Airlines Inc. | 1014 |\n| 2013 | JFK | MQ | Envoy Air              | 1005 |\n| 2013 | JFK | DL | Delta Air Lines Inc.   |  960 |\n| 2013 | LGA | DL | Delta Air Lines Inc.   |  911 |\n| 2013 | JFK | DL | Delta Air Lines Inc.   |  899 |\n| 2013 | LGA | DL | Delta Air Lines Inc.   |  898 |\n| 2013 | EWR | AA | American Airlines Inc. |  896 |\n| 2013 | EWR | MQ | Envoy Air              |  878 |\n| 2013 | JFK | MQ | Envoy Air              |  853 |\n| 2013 | LGA | F9 | Frontier Airlines Inc. |  853 |\n| 2013 | JFK | AA | American Airlines Inc. |  853 |\n| 2013 | EWR | DL | Delta Air Lines Inc.   |  849 |\n| 2013 | EWR | AA | American Airlines Inc. |  845 |\n| 2013 | JFK | DL | Delta Air Lines Inc.   |  825 |\n| 2013 | LGA | DL | Delta Air Lines Inc.   |  812 |\n| 2013 | LGA | AA | American Airlines Inc. |  803 |\n| 2013 | JFK | DL | Delta Air Lines Inc.   |  800 |\n| 2013 | EWR | DL | Delta Air Lines Inc.   |  798 |\n| 2013 | JFK | AA | American Airlines Inc. |  797 |\n| 2013 | JFK | DL | Delta Air Lines Inc.   |  790 |\n| 2013 | LGA | DL | Delta Air Lines Inc.   |  788 |\n| 2013 | LGA | DL | Delta Air Lines Inc.   |  787 |\n| 2013 | EWR | DL | Delta Air Lines Inc.   |  786 |\n| 2013 | JFK | AA | American Airlines Inc. |  761 |\n| 2013 | LGA | DL | Delta Air Lines Inc.   |  753 |\n| 2013 | JFK | 9E | Endeavor Air Inc.      |  747 |\n| 2013 | EWR | DL | Delta Air Lines Inc.   |  702 |\n| ⋮ | ⋮ | ⋮ | ⋮ | ⋮ |\n| 2013 | LGA | MQ | Envoy Air                | NA |\n| 2013 | LGA | EV | ExpressJet Airlines Inc. | NA |\n| 2013 | LGA | EV | ExpressJet Airlines Inc. | NA |\n| 2013 | LGA | EV | ExpressJet Airlines Inc. | NA |\n| 2013 | JFK | EV | ExpressJet Airlines Inc. | NA |\n| 2013 | EWR | B6 | JetBlue Airways          | NA |\n| 2013 | LGA | US | US Airways Inc.          | NA |\n| 2013 | LGA | US | US Airways Inc.          | NA |\n| 2013 | LGA | MQ | Envoy Air                | NA |\n| 2013 | LGA | MQ | Envoy Air                | NA |\n| 2013 | EWR | MQ | Envoy Air                | NA |\n| 2013 | LGA | EV | ExpressJet Airlines Inc. | NA |\n| 2013 | LGA | US | US Airways Inc.          | NA |\n| 2013 | EWR | WN | Southwest Airlines Co.   | NA |\n| 2013 | LGA | AA | American Airlines Inc.   | NA |\n| 2013 | LGA | US | US Airways Inc.          | NA |\n| 2013 | EWR | MQ | Envoy Air                | NA |\n| 2013 | LGA | UA | United Air Lines Inc.    | NA |\n| 2013 | LGA | EV | ExpressJet Airlines Inc. | NA |\n| 2013 | JFK | AA | American Airlines Inc.   | NA |\n| 2013 | EWR | US | US Airways Inc.          | NA |\n| 2013 | EWR | EV | ExpressJet Airlines Inc. | NA |\n| 2013 | EWR | MQ | Envoy Air                | NA |\n| 2013 | LGA | UA | United Air Lines Inc.    | NA |\n| 2013 | LGA | EV | ExpressJet Airlines Inc. | NA |\n| 2013 | JFK | 9E | Endeavor Air Inc.        | NA |\n| 2013 | LGA | 9E | Endeavor Air Inc.        | NA |\n| 2013 | LGA | MQ | Envoy Air                | NA |\n| 2013 | LGA | MQ | Envoy Air                | NA |\n| 2013 | LGA | MQ | Envoy Air                | NA |\n\n",
            "text/html": [
              "<table>\n",
              "<caption>A tibble: 336776 × 5</caption>\n",
              "<thead>\n",
              "\t<tr><th scope=col>year</th><th scope=col>origin</th><th scope=col>carrier</th><th scope=col>name</th><th scope=col>dep_delay</th></tr>\n",
              "\t<tr><th scope=col>&lt;int&gt;</th><th scope=col>&lt;chr&gt;</th><th scope=col>&lt;chr&gt;</th><th scope=col>&lt;chr&gt;</th><th scope=col>&lt;dbl&gt;</th></tr>\n",
              "</thead>\n",
              "<tbody>\n",
              "\t<tr><td>2013</td><td>JFK</td><td>HA</td><td>Hawaiian Airlines Inc.</td><td>1301</td></tr>\n",
              "\t<tr><td>2013</td><td>JFK</td><td>MQ</td><td>Envoy Air             </td><td>1137</td></tr>\n",
              "\t<tr><td>2013</td><td>EWR</td><td>MQ</td><td>Envoy Air             </td><td>1126</td></tr>\n",
              "\t<tr><td>2013</td><td>JFK</td><td>AA</td><td>American Airlines Inc.</td><td>1014</td></tr>\n",
              "\t<tr><td>2013</td><td>JFK</td><td>MQ</td><td>Envoy Air             </td><td>1005</td></tr>\n",
              "\t<tr><td>2013</td><td>JFK</td><td>DL</td><td>Delta Air Lines Inc.  </td><td> 960</td></tr>\n",
              "\t<tr><td>2013</td><td>LGA</td><td>DL</td><td>Delta Air Lines Inc.  </td><td> 911</td></tr>\n",
              "\t<tr><td>2013</td><td>JFK</td><td>DL</td><td>Delta Air Lines Inc.  </td><td> 899</td></tr>\n",
              "\t<tr><td>2013</td><td>LGA</td><td>DL</td><td>Delta Air Lines Inc.  </td><td> 898</td></tr>\n",
              "\t<tr><td>2013</td><td>EWR</td><td>AA</td><td>American Airlines Inc.</td><td> 896</td></tr>\n",
              "\t<tr><td>2013</td><td>EWR</td><td>MQ</td><td>Envoy Air             </td><td> 878</td></tr>\n",
              "\t<tr><td>2013</td><td>JFK</td><td>MQ</td><td>Envoy Air             </td><td> 853</td></tr>\n",
              "\t<tr><td>2013</td><td>LGA</td><td>F9</td><td>Frontier Airlines Inc.</td><td> 853</td></tr>\n",
              "\t<tr><td>2013</td><td>JFK</td><td>AA</td><td>American Airlines Inc.</td><td> 853</td></tr>\n",
              "\t<tr><td>2013</td><td>EWR</td><td>DL</td><td>Delta Air Lines Inc.  </td><td> 849</td></tr>\n",
              "\t<tr><td>2013</td><td>EWR</td><td>AA</td><td>American Airlines Inc.</td><td> 845</td></tr>\n",
              "\t<tr><td>2013</td><td>JFK</td><td>DL</td><td>Delta Air Lines Inc.  </td><td> 825</td></tr>\n",
              "\t<tr><td>2013</td><td>LGA</td><td>DL</td><td>Delta Air Lines Inc.  </td><td> 812</td></tr>\n",
              "\t<tr><td>2013</td><td>LGA</td><td>AA</td><td>American Airlines Inc.</td><td> 803</td></tr>\n",
              "\t<tr><td>2013</td><td>JFK</td><td>DL</td><td>Delta Air Lines Inc.  </td><td> 800</td></tr>\n",
              "\t<tr><td>2013</td><td>EWR</td><td>DL</td><td>Delta Air Lines Inc.  </td><td> 798</td></tr>\n",
              "\t<tr><td>2013</td><td>JFK</td><td>AA</td><td>American Airlines Inc.</td><td> 797</td></tr>\n",
              "\t<tr><td>2013</td><td>JFK</td><td>DL</td><td>Delta Air Lines Inc.  </td><td> 790</td></tr>\n",
              "\t<tr><td>2013</td><td>LGA</td><td>DL</td><td>Delta Air Lines Inc.  </td><td> 788</td></tr>\n",
              "\t<tr><td>2013</td><td>LGA</td><td>DL</td><td>Delta Air Lines Inc.  </td><td> 787</td></tr>\n",
              "\t<tr><td>2013</td><td>EWR</td><td>DL</td><td>Delta Air Lines Inc.  </td><td> 786</td></tr>\n",
              "\t<tr><td>2013</td><td>JFK</td><td>AA</td><td>American Airlines Inc.</td><td> 761</td></tr>\n",
              "\t<tr><td>2013</td><td>LGA</td><td>DL</td><td>Delta Air Lines Inc.  </td><td> 753</td></tr>\n",
              "\t<tr><td>2013</td><td>JFK</td><td>9E</td><td>Endeavor Air Inc.     </td><td> 747</td></tr>\n",
              "\t<tr><td>2013</td><td>EWR</td><td>DL</td><td>Delta Air Lines Inc.  </td><td> 702</td></tr>\n",
              "\t<tr><td>⋮</td><td>⋮</td><td>⋮</td><td>⋮</td><td>⋮</td></tr>\n",
              "\t<tr><td>2013</td><td>LGA</td><td>MQ</td><td>Envoy Air               </td><td>NA</td></tr>\n",
              "\t<tr><td>2013</td><td>LGA</td><td>EV</td><td>ExpressJet Airlines Inc.</td><td>NA</td></tr>\n",
              "\t<tr><td>2013</td><td>LGA</td><td>EV</td><td>ExpressJet Airlines Inc.</td><td>NA</td></tr>\n",
              "\t<tr><td>2013</td><td>LGA</td><td>EV</td><td>ExpressJet Airlines Inc.</td><td>NA</td></tr>\n",
              "\t<tr><td>2013</td><td>JFK</td><td>EV</td><td>ExpressJet Airlines Inc.</td><td>NA</td></tr>\n",
              "\t<tr><td>2013</td><td>EWR</td><td>B6</td><td>JetBlue Airways         </td><td>NA</td></tr>\n",
              "\t<tr><td>2013</td><td>LGA</td><td>US</td><td>US Airways Inc.         </td><td>NA</td></tr>\n",
              "\t<tr><td>2013</td><td>LGA</td><td>US</td><td>US Airways Inc.         </td><td>NA</td></tr>\n",
              "\t<tr><td>2013</td><td>LGA</td><td>MQ</td><td>Envoy Air               </td><td>NA</td></tr>\n",
              "\t<tr><td>2013</td><td>LGA</td><td>MQ</td><td>Envoy Air               </td><td>NA</td></tr>\n",
              "\t<tr><td>2013</td><td>EWR</td><td>MQ</td><td>Envoy Air               </td><td>NA</td></tr>\n",
              "\t<tr><td>2013</td><td>LGA</td><td>EV</td><td>ExpressJet Airlines Inc.</td><td>NA</td></tr>\n",
              "\t<tr><td>2013</td><td>LGA</td><td>US</td><td>US Airways Inc.         </td><td>NA</td></tr>\n",
              "\t<tr><td>2013</td><td>EWR</td><td>WN</td><td>Southwest Airlines Co.  </td><td>NA</td></tr>\n",
              "\t<tr><td>2013</td><td>LGA</td><td>AA</td><td>American Airlines Inc.  </td><td>NA</td></tr>\n",
              "\t<tr><td>2013</td><td>LGA</td><td>US</td><td>US Airways Inc.         </td><td>NA</td></tr>\n",
              "\t<tr><td>2013</td><td>EWR</td><td>MQ</td><td>Envoy Air               </td><td>NA</td></tr>\n",
              "\t<tr><td>2013</td><td>LGA</td><td>UA</td><td>United Air Lines Inc.   </td><td>NA</td></tr>\n",
              "\t<tr><td>2013</td><td>LGA</td><td>EV</td><td>ExpressJet Airlines Inc.</td><td>NA</td></tr>\n",
              "\t<tr><td>2013</td><td>JFK</td><td>AA</td><td>American Airlines Inc.  </td><td>NA</td></tr>\n",
              "\t<tr><td>2013</td><td>EWR</td><td>US</td><td>US Airways Inc.         </td><td>NA</td></tr>\n",
              "\t<tr><td>2013</td><td>EWR</td><td>EV</td><td>ExpressJet Airlines Inc.</td><td>NA</td></tr>\n",
              "\t<tr><td>2013</td><td>EWR</td><td>MQ</td><td>Envoy Air               </td><td>NA</td></tr>\n",
              "\t<tr><td>2013</td><td>LGA</td><td>UA</td><td>United Air Lines Inc.   </td><td>NA</td></tr>\n",
              "\t<tr><td>2013</td><td>LGA</td><td>EV</td><td>ExpressJet Airlines Inc.</td><td>NA</td></tr>\n",
              "\t<tr><td>2013</td><td>JFK</td><td>9E</td><td>Endeavor Air Inc.       </td><td>NA</td></tr>\n",
              "\t<tr><td>2013</td><td>LGA</td><td>9E</td><td>Endeavor Air Inc.       </td><td>NA</td></tr>\n",
              "\t<tr><td>2013</td><td>LGA</td><td>MQ</td><td>Envoy Air               </td><td>NA</td></tr>\n",
              "\t<tr><td>2013</td><td>LGA</td><td>MQ</td><td>Envoy Air               </td><td>NA</td></tr>\n",
              "\t<tr><td>2013</td><td>LGA</td><td>MQ</td><td>Envoy Air               </td><td>NA</td></tr>\n",
              "</tbody>\n",
              "</table>\n"
            ]
          },
          "metadata": {
            "tags": []
          }
        }
      ]
    },
    {
      "cell_type": "code",
      "metadata": {
        "id": "IUF_46XJkq0a",
        "colab_type": "code",
        "colab": {}
      },
      "source": [
        ""
      ],
      "execution_count": null,
      "outputs": []
    }
  ]
}